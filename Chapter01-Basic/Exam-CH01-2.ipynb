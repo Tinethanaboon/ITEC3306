{
 "cells": [
  {
   "cell_type": "markdown",
   "metadata": {
    "collapsed": true
   },
   "source": [
    "# แบบฝึกหัดท้ายบท บทที่1"
   ]
  },
  {
   "cell_type": "markdown",
   "metadata": {},
   "source": [
    "## ตอนที่ 2 คำชี้แจง: จากการศึกษาในบทเรียน จงตอบคำถามดังต่อไปนี้"
   ]
  },
  {
   "cell_type": "markdown",
   "metadata": {},
   "source": [
    "### 1.\tจงบอกความหมายและความเป็นมาของเวิลด์ไวด์เว็บมาโดยสังเขป"
   ]
  },
  {
   "cell_type": "markdown",
   "metadata": {},
   "source": [
    "### 2.\tจงบอกความสัมพันธ์ระหว่างเว็บไซต์ เว็บเพจ และ โฮมเพจ"
   ]
  },
  {
   "cell_type": "markdown",
   "metadata": {},
   "source": [
    "### 3.\tจงบอกโปรโตคอล (Protocol) ที่เกี่ยวกับการสื่อสารบนอินเทอร์เน็ตมาอย่างน้อย 3 โปรโตคอล พร้อมทั้งอธิบายความสำคัญของโปรโตคอลดังกล่าว"
   ]
  },
  {
   "cell_type": "markdown",
   "metadata": {},
   "source": [
    "### 4.\tจงยกตัวอย่างชื่อเว็บไซต์อย่างน้อย 5 ประเภทโดเมน (Domain Name) ที่แตกต่างกัน พร้อมระบุประเภทโดเมนเนมของเว็บไซต์ที่ยกตัวอย่างมา "
   ]
  },
  {
   "cell_type": "markdown",
   "metadata": {},
   "source": [
    "### 5.\tจงบอกข้อแตกต่างระหว่างแชร์เว็บโฮสติ้ง (Shared Web Hosting) ดีดิเคทเซิร์ฟเวอร์ (Dedicated Server) และ โค-โลเคชันเซิร์ฟเวอร์ (Co-Location Server) มาพอสังเขป"
   ]
  },
  {
   "cell_type": "markdown",
   "metadata": {},
   "source": [
    "### 6.\tจงบอกความแตกต่างระหว่างอินเทอร์เน็ตกับเครือข่ายคอมพิวเตอร์สำหรับองค์กร"
   ]
  },
  {
   "cell_type": "markdown",
   "metadata": {},
   "source": [
    "### 7.\tจงบอกความแตกต่างของอินทราเน็ต (Intranet) และเอ็กซ์ทราเน็ต (Extranet) มาพอสังเขป พร้อมยกตัวอย่างการใช้งานเครือข่ายเอ็กซ์ทราเน็ตในเชิงธุรกิจ"
   ]
  },
  {
   "cell_type": "markdown",
   "metadata": {},
   "source": [
    "### 8.\tจงบอกรูปแบบบริการที่ท่านใช้งานบนอินเทอร์เน็ตบ่อยมากที่สุดมา 5 บริการ พร้อมทั้งอธิบายลักษณะรูปแบบบริการดังกล่าวมาพอสังเขป"
   ]
  },
  {
   "cell_type": "markdown",
   "metadata": {},
   "source": [
    "### 9.\tจงข้อแตกต่างระหว่างเว็บไซต์ที่สร้างผ่านเว็บไซต์ออนไลน์กับระบบจัดการเนื้อหา (CMS: Content Management System) พร้อมสรุปข้อดีข้อเสีย"
   ]
  },
  {
   "cell_type": "markdown",
   "metadata": {},
   "source": [
    "### 10.\tจงยกตัวอย่างโปรแกรมสำหรับจำลองเว็บเซิร์ฟเวอร์มา 1 โปรแกรม พร้อมบอกส่วนประกอบเครื่องที่สำคัญที่สุดมาอย่างน้อย 4 อย่าง "
   ]
  },
  {
   "cell_type": "markdown",
   "metadata": {},
   "source": [
    "### 11.\tจงบอกชื่อภาษาเกี่ยวข้องกับการพัฒนาโปรแกรมบนเว็บมาอย่างน้อย 3 ภาษา พร้อมอธิบายความสามารถของภาษามาพอสังเขป"
   ]
  },
  {
   "cell_type": "markdown",
   "metadata": {},
   "source": [
    "### 12.\tจงบอกส่วนประกอบของเว็บไซต์และอธิบายขั้นตอนการออกแบบและพัฒนาเว็บไซต์มาพอสังเขป"
   ]
  }
 ],
 "metadata": {
  "kernelspec": {
   "display_name": "Python 3",
   "language": "python",
   "name": "python3"
  },
  "language_info": {
   "codemirror_mode": {
    "name": "ipython",
    "version": 3
   },
   "file_extension": ".py",
   "mimetype": "text/x-python",
   "name": "python",
   "nbconvert_exporter": "python",
   "pygments_lexer": "ipython3",
   "version": "3.6.2"
  }
 },
 "nbformat": 4,
 "nbformat_minor": 2
}
